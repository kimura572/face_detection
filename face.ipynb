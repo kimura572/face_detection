{
 "cells": [
  {
   "cell_type": "markdown",
   "metadata": {},
   "source": [
    "参考サイト  \n",
    "①https://qiita.com/FukuharaYohei/items/ec6dce7cc5ea21a51a82  \n",
    "②https://itport.cloud/?p=6983"
   ]
  },
  {
   "cell_type": "code",
   "execution_count": 2,
   "metadata": {},
   "outputs": [],
   "source": [
    "import numpy as np\n",
    "from keras.preprocessing.image import load_img, img_to_array\n",
    "import cv2\n",
    "import matplotlib.pyplot as plt\n",
    "import matplotlib.image as mpimg\n",
    "from keras.models import load_model\n",
    "\n",
    "#動画を読込み\n",
    "#カメラ等でストリーム再生の場合は引数に0等のデバイスIDを記述する\n",
    "video = cv2.VideoCapture(0)\n",
    " \n",
    "cascade_path = \"haarcascade_frontalface_default.xml\"\n",
    "cascade = cv2.CascadeClassifier(cascade_path)\n",
    "model = load_model('weights.16.hdf5')\n",
    "model_1 = load_model('age.hdf5')\n",
    "\n",
    "while video.isOpened():\n",
    "    # フレームを読込み\n",
    "    ret, frame = video.read()\n",
    " \n",
    "    # フレームが読み込めなかった場合は終了（動画が終わると読み込めなくなる）\n",
    "    if not ret: break\n",
    "    # 顔検出\n",
    "    facerect = cascade.detectMultiScale(frame, scaleFactor=1.1, minNeighbors=2, minSize=(30, 30))\n",
    "     \n",
    "    # 矩形線の色\n",
    "    rectangle_color = (0, 255, 0) #緑色\n",
    " \n",
    "    # 顔を検出した場合\n",
    "    if len(facerect) > 0:\n",
    "        for rect in facerect:\n",
    "            cv2.rectangle(frame, tuple(rect[0:2]),tuple(rect[0:2] + rect[2:4]), rectangle_color, thickness=2)\n",
    "            \n",
    "            # 顔部分の抽出\n",
    "            cut_frame = frame[rect[1]:rect[1]+rect[3],rect[0]:rect[0]+rect[2]]\n",
    "            \n",
    "            # img[top : bottom, left : right]\n",
    "            # サンプル1の切り出し、保存\n",
    "            cv2.imwrite(\"out_sample1.jpg\", cut_frame)\n",
    "\n",
    "            # input test image\n",
    "            img = load_img(\"out_sample1.jpg\", color_mode='rgb', target_size=(200, 200))\n",
    "            img = img_to_array(img) \n",
    "            img = img.astype('float32')/255\n",
    "            img = np.array([img])\n",
    "        \n",
    "            # predict test image\n",
    "            y_pred = model.predict(img)    \n",
    "            number_pred = np.argmax(y_pred)\n",
    "            y_pred_1 = model_1.predict(img)    \n",
    "            number_pred_1 = np.argmax(y_pred)\n",
    "            \n",
    "            font = cv2.FONT_HERSHEY_SIMPLEX\n",
    "            \n",
    "            if number_pred == 0:\n",
    "                cv2.putText(frame,'Men',(rect[1],rect[1]+rect[3]), font, 1,(255,255,255),2,cv2.LINE_AA)\n",
    "                \n",
    "            elif number_pred == 1:\n",
    "                cv2.putText(frame,'Women',(rect[1],rect[1]+rect[3]), font, 1,(255,255,255),2,cv2.LINE_AA)\n",
    "                \n",
    "            else:\n",
    "                cv2.putText(frame,'?',(rect[0],rect[0]+rect[2]), font, 1,(255,255,255),2,cv2.LINE_AA)\n",
    "            \n",
    "            if number_pred_1 == 0:\n",
    "                cv2.putText(frame,'1-10',(rect[0],rect[0]+rect[2]), font, 1,(255,255,255),2,cv2.LINE_AA)\n",
    "                \n",
    "            elif number_pred_1 == 1:\n",
    "                cv2.putText(frame,'11-20',(rect[0],rect[0]+rect[2]), font, 1,(255,255,255),2,cv2.LINE_AA)\n",
    "            \n",
    "            elif number_pred_1 == 2:\n",
    "                cv2.putText(frame,'21-30',(rect[0],rect[0]+rect[2]), font, 1,(255,255,255),2,cv2.LINE_AA)\n",
    "            \n",
    "            elif number_pred_1 == 3:\n",
    "                cv2.putText(frame,'31-40',(rect[0],rect[0]+rect[2]), font, 1,(255,255,255),2,cv2.LINE_AA)\n",
    "            \n",
    "            elif number_pred_1 == 4:\n",
    "                cv2.putText(frame,'41-50',(rect[0],rect[0]+rect[2]), font, 1,(255,255,255),2,cv2.LINE_AA)\n",
    "            \n",
    "            elif number_pred_1 == 5:\n",
    "                cv2.putText(frame,'51-60',(rect[0],rect[0]+rect[2]), font, 1,(255,255,255),2,cv2.LINE_AA)\n",
    "            \n",
    "            elif number_pred_1 == 6:\n",
    "                cv2.putText(frame,'41-50',(rect[0],rect[0]+rect[2]), font, 1,(255,255,255),2,cv2.LINE_AA)\n",
    "                \n",
    "            else:\n",
    "                cv2.putText(frame,'?',(rect[0],rect[0]+rect[2]), font, 1,(255,255,255),2,cv2.LINE_AA)\n",
    "            \n",
    "          \n",
    "        \n",
    "        # 縮小→復元画像で元の画像と置換\n",
    "#             frame[rect[1]:rect[1]+rect[3],rect[0]:rect[0]+rect[2]]=cut_frame\n",
    " \n",
    " \n",
    "    # フレームの描画\n",
    "    cv2.imshow('frame', frame)\n",
    " \n",
    "    # qキーの押下で処理を中止\n",
    "    key = cv2.waitKey(1) & 0xFF\n",
    "    if key == ord('q'): break\n",
    " \n",
    "#メモリの解放\n",
    "video.release()\n",
    "cv2.destroyAllWindows()"
   ]
  },
  {
   "cell_type": "code",
   "execution_count": 12,
   "metadata": {},
   "outputs": [
    {
     "name": "stderr",
     "output_type": "stream",
     "text": [
      "Using TensorFlow backend.\n"
     ]
    },
    {
     "name": "stdout",
     "output_type": "stream",
     "text": [
      "[[0.16045721 0.83954287]]\n",
      "1\n"
     ]
    },
    {
     "data": {
      "image/png": "[encoded data removed]",
      "text/plain": [
       "<Figure size 432x288 with 1 Axes>"
      ]
     },
     "metadata": {},
     "output_type": "display_data"
    }
   ],
   "source": [
    "import numpy as np\n",
    "from keras.preprocessing.image import load_img, img_to_array\n",
    "import cv2\n",
    "import matplotlib.pyplot as plt\n",
    "import matplotlib.image as mpimg\n",
    "from keras.models import load_model\n",
    "\n",
    "\n",
    "model = load_model('weights.16.hdf5')\n",
    "# input test image\n",
    "img = load_img(\"out_sample1.jpg\", color_mode='rgb', target_size=(200, 200))\n",
    "img = img_to_array(img) \n",
    "img = img.astype('float32')/255\n",
    "img = np.array([img])\n",
    "\n",
    "# show test image\n",
    "image = mpimg.imread(\"out_sample1.jpg\")\n",
    "plt.subplot(1,4,1)\n",
    "plt.tick_params(labelbottom=False, bottom=False)\n",
    "plt.tick_params(labelleft=False, left=False)\n",
    "implot = plt.imshow(image)\n",
    "\n",
    "# predict test image\n",
    "y_pred = model.predict(img)    \n",
    "number_pred = np.argmax(y_pred)\n",
    "print(y_pred)\n",
    "print(number_pred)"
   ]
  },
  {
   "cell_type": "code",
   "execution_count": 11,
   "metadata": {},
   "outputs": [
    {
     "data": {
      "text/plain": [
       "True"
      ]
     },
     "execution_count": 11,
     "metadata": {},
     "output_type": "execute_result"
    }
   ],
   "source": [
    "# 顔部分の検出\n",
    "import numpy as np\n",
    "import cv2\n",
    "\n",
    "face_cascade = cv2.CascadeClassifier('haarcascade_frontalface_default.xml')\n",
    "\n",
    "img = cv2.imread('IM.JPG')\n",
    "gray = cv2.cvtColor(img, cv2.COLOR_BGR2GRAY)\n",
    "faces = face_cascade.detectMultiScale(gray)\n",
    "for (x,y,w,h) in faces:\n",
    "    img = cv2.rectangle(img,(x,y),(x+w,y+h),(255,0,0),2)\n",
    "    roi_gray = gray[y:y+h, x:x+w]\n",
    "    roi_color = img[y:y+h, x:x+w]\n",
    "    cut_frame = img[y:y+h,x:x+w]\n",
    "            \n",
    "        \n",
    "cv2.imshow('img',img)\n",
    "cv2.waitKey(0)\n",
    "cv2.destroyAllWindows()\n",
    "cv2.imwrite(\"out_sample1.jpg\", cut_frame) "
   ]
  }
 ],
 "metadata": {
  "kernelspec": {
   "display_name": "Python 3",
   "language": "python",
   "name": "python3"
  },
  "language_info": {
   "codemirror_mode": {
    "name": "ipython",
    "version": 3
   },
   "file_extension": ".py",
   "mimetype": "text/x-python",
   "name": "python",
   "nbconvert_exporter": "python",
   "pygments_lexer": "ipython3",
   "version": "3.7.7"
  }
 },
 "nbformat": 4,
 "nbformat_minor": 4
}
