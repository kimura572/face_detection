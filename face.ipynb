{
 "cells": [
  {
   "cell_type": "code",
   "execution_count": 1,
   "metadata": {},
   "outputs": [
    {
     "name": "stderr",
     "output_type": "stream",
     "text": [
      "Using TensorFlow backend.\n"
     ]
    }
   ],
   "source": [
    "import numpy as np\n",
    "from keras.preprocessing.image import load_img, img_to_array\n",
    "import cv2\n",
    "import matplotlib.pyplot as plt\n",
    "import matplotlib.image as mpimg\n",
    "from keras.models import load_model\n",
    "\n",
    "#動画を読込み\n",
    "#カメラ等でストリーム再生の場合は引数に0等のデバイスIDを記述する\n",
    "video = cv2.VideoCapture(0)\n",
    " \n",
    "cascade_path = \"haarcascade_frontalface_default.xml\"\n",
    "cascade = cv2.CascadeClassifier(cascade_path)\n",
    "model = load_model('weights.hdf5')\n",
    "model_1 = load_model('age.hdf5')\n",
    "\n",
    "while video.isOpened():\n",
    "    # フレームを読込み\n",
    "    ret, frame = video.read()\n",
    " \n",
    "    # フレームが読み込めなかった場合は終了（動画が終わると読み込めなくなる）\n",
    "    if not ret: break\n",
    "    # 顔検出\n",
    "    facerect = cascade.detectMultiScale(frame, scaleFactor=1.1, minNeighbors=2, minSize=(30, 30))\n",
    "     \n",
    "    # 矩形線の色\n",
    "    rectangle_color = (0, 255, 0) #緑色\n",
    " \n",
    "    # 顔を検出した場合\n",
    "    if len(facerect) > 0:\n",
    "        for rect in facerect:\n",
    "            cv2.rectangle(frame, tuple(rect[0:2]),tuple(rect[0:2] + rect[2:4]), rectangle_color, thickness=2)\n",
    "            \n",
    "            # 顔部分の抽出\n",
    "            cut_frame = frame[rect[1]:rect[1]+rect[3],rect[0]:rect[0]+rect[2]]\n",
    "            \n",
    "            # img[top : bottom, left : right]\n",
    "            # サンプル1の切り出し、保存\n",
    "            cv2.imwrite(\"out_sample1.jpg\", cut_frame)\n",
    "\n",
    "            # input test image\n",
    "            img = load_img(\"out_sample1.jpg\", color_mode='rgb', target_size=(200, 200))\n",
    "            img = img_to_array(img) \n",
    "            img = img.astype('float32')/255\n",
    "            img = np.array([img])\n",
    "        \n",
    "            # predict test image\n",
    "            y_pred = model.predict(img)    \n",
    "            number_pred = np.argmax(y_pred)\n",
    "            y_pred_1 = model_1.predict(img)    \n",
    "            number_pred_1 = np.argmax(y_pred)\n",
    "            \n",
    "            font = cv2.FONT_HERSHEY_SIMPLEX\n",
    "            \n",
    "            if number_pred == 0:\n",
    "                cv2.putText(frame,'Men',(rect[1],rect[1]+rect[3]), font, 1,(255,255,255),2,cv2.LINE_AA)\n",
    "                \n",
    "            elif number_pred == 1:\n",
    "                cv2.putText(frame,'Women',(rect[1],rect[1]+rect[3]), font, 1,(255,255,255),2,cv2.LINE_AA)\n",
    "                \n",
    "            else:\n",
    "                cv2.putText(frame,'?',(rect[0],rect[0]+rect[2]), font, 1,(255,255,255),2,cv2.LINE_AA)\n",
    "            \n",
    "            if number_pred_1 == 0:\n",
    "                cv2.putText(frame,'1-10',(rect[0],rect[0]+rect[2]), font, 1,(255,255,255),2,cv2.LINE_AA)\n",
    "                \n",
    "            elif number_pred_1 == 1:\n",
    "                cv2.putText(frame,'11-20',(rect[0],rect[0]+rect[2]), font, 1,(255,255,255),2,cv2.LINE_AA)\n",
    "            \n",
    "            elif number_pred_1 == 2:\n",
    "                cv2.putText(frame,'21-30',(rect[0],rect[0]+rect[2]), font, 1,(255,255,255),2,cv2.LINE_AA)\n",
    "            \n",
    "            elif number_pred_1 == 3:\n",
    "                cv2.putText(frame,'31-40',(rect[0],rect[0]+rect[2]), font, 1,(255,255,255),2,cv2.LINE_AA)\n",
    "            \n",
    "            elif number_pred_1 == 4:\n",
    "                cv2.putText(frame,'41-50',(rect[0],rect[0]+rect[2]), font, 1,(255,255,255),2,cv2.LINE_AA)\n",
    "            \n",
    "            elif number_pred_1 == 5:\n",
    "                cv2.putText(frame,'51-60',(rect[0],rect[0]+rect[2]), font, 1,(255,255,255),2,cv2.LINE_AA)\n",
    "            \n",
    "            elif number_pred_1 == 6:\n",
    "                cv2.putText(frame,'41-50',(rect[0],rect[0]+rect[2]), font, 1,(255,255,255),2,cv2.LINE_AA)\n",
    "                \n",
    "            else:\n",
    "                cv2.putText(frame,'?',(rect[0],rect[0]+rect[2]), font, 1,(255,255,255),2,cv2.LINE_AA)\n",
    "            \n",
    "          \n",
    "        \n",
    "        # 縮小→復元画像で元の画像と置換\n",
    "#             frame[rect[1]:rect[1]+rect[3],rect[0]:rect[0]+rect[2]]=cut_frame\n",
    " \n",
    " \n",
    "    # フレームの描画\n",
    "    cv2.imshow('frame', frame)\n",
    " \n",
    "    # qキーの押下で処理を中止\n",
    "    key = cv2.waitKey(1) & 0xFF\n",
    "    if key == ord('q'): break\n",
    " \n",
    "#メモリの解放\n",
    "video.release()\n",
    "cv2.destroyAllWindows()"
   ]
  },
  {
   "cell_type": "code",
   "execution_count": 2,
   "metadata": {},
   "outputs": [
    {
     "name": "stdout",
     "output_type": "stream",
     "text": [
      "[[0.49688146 0.5031186 ]]\n",
      "1\n"
     ]
    },
    {
     "data": {
      "image/png": "[encoded data removed]",
      "text/plain": [
       "<Figure size 432x288 with 1 Axes>"
      ]
     },
     "metadata": {},
     "output_type": "display_data"
    }
   ],
   "source": [
    "import numpy as np\n",
    "from keras.preprocessing.image import load_img, img_to_array\n",
    "import cv2\n",
    "import matplotlib.pyplot as plt\n",
    "import matplotlib.image as mpimg\n",
    "from keras.models import load_model\n",
    "\n",
    "\n",
    "# model = load_model('weights.06-0.44.hdf5')\n",
    "model = load_model('weights.18-0.72.hdf5')\n",
    "# input test image\n",
    "img = load_img(\"it.jpg\", color_mode='rgb', target_size=(200, 200))\n",
    "img = img_to_array(img) \n",
    "img = img.astype('float32')/255\n",
    "img = np.array([img])\n",
    "\n",
    "# show test image\n",
    "image = mpimg.imread(\"it.jpg\")\n",
    "plt.subplot(1,4,1)\n",
    "plt.tick_params(labelbottom=False, bottom=False)\n",
    "plt.tick_params(labelleft=False, left=False)\n",
    "implot = plt.imshow(image)\n",
    "\n",
    "# predict test image\n",
    "y_pred = model.predict(img)    \n",
    "number_pred = np.argmax(y_pred)\n",
    "print(y_pred)\n",
    "print(number_pred)"
   ]
  },
  {
   "cell_type": "code",
   "execution_count": 1,
   "metadata": {},
   "outputs": [
    {
     "name": "stderr",
     "output_type": "stream",
     "text": [
      "Using TensorFlow backend.\n"
     ]
    },
    {
     "name": "stdout",
     "output_type": "stream",
     "text": [
      "[[8.7034863e-01 1.0340111e-01 6.0050523e-05 8.4203952e-05 2.5727723e-03\n",
      "  4.7965460e-03 1.8736705e-02]]\n",
      "0\n"
     ]
    },
    {
     "data": {
      "image/png": "[encoded data removed]",
      "text/plain": [
       "<Figure size 432x288 with 1 Axes>"
      ]
     },
     "metadata": {},
     "output_type": "display_data"
    }
   ],
   "source": [
    "import numpy as np\n",
    "from keras.preprocessing.image import load_img, img_to_array\n",
    "import cv2\n",
    "import matplotlib.pyplot as plt\n",
    "import matplotlib.image as mpimg\n",
    "from keras.models import load_model\n",
    "\n",
    "\n",
    "model = load_model('age.hdf5')\n",
    "# input test image\n",
    "img = load_img(\"it.jpg\", color_mode='rgb', target_size=(200, 200))\n",
    "img = img_to_array(img) \n",
    "img = img.astype('float32')/255\n",
    "img = np.array([img])\n",
    "\n",
    "# show test image\n",
    "image = mpimg.imread(\"it.jpg\")\n",
    "plt.subplot(1,4,1)\n",
    "plt.tick_params(labelbottom=False, bottom=False)\n",
    "plt.tick_params(labelleft=False, left=False)\n",
    "implot = plt.imshow(image)\n",
    "\n",
    "# predict test image\n",
    "y_pred = model.predict(img)    \n",
    "number_pred = np.argmax(y_pred)\n",
    "print(y_pred)\n",
    "print(number_pred)"
   ]
  }
 ],
 "metadata": {
  "kernelspec": {
   "display_name": "Python 3",
   "language": "python",
   "name": "python3"
  },
  "language_info": {
   "codemirror_mode": {
    "name": "ipython",
    "version": 3
   },
   "file_extension": ".py",
   "mimetype": "text/x-python",
   "name": "python",
   "nbconvert_exporter": "python",
   "pygments_lexer": "ipython3",
   "version": "3.7.7"
  }
 },
 "nbformat": 4,
 "nbformat_minor": 4
}
